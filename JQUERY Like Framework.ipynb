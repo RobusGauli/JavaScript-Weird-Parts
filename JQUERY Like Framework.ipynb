{
 "cells": [
  {
   "cell_type": "code",
   "execution_count": 1,
   "metadata": {
    "collapsed": false
   },
   "outputs": [
    {
     "data": {
      "text/plain": [
       "undefined"
      ]
     },
     "execution_count": 1,
     "metadata": {},
     "output_type": "execute_result"
    }
   ],
   "source": [
    "//creating new execution context for our entire library, and only expose on the global object that we want"
   ]
  },
  {
   "cell_type": "code",
   "execution_count": 20,
   "metadata": {
    "collapsed": false
   },
   "outputs": [
    {
     "data": {
      "text/plain": [
       "undefined"
      ]
     },
     "execution_count": 20,
     "metadata": {},
     "output_type": "execute_result"
    }
   ],
   "source": [
    "//wrap the entire code inside the function and only expose the single object to global variable\n",
    "//passing in global object\n",
    "\n",
    "(function(global){\n",
    "    \n",
    "    //setting up the greeter object that will be attach tot global variable\n",
    "    \n",
    "    ///we use function that returns the new object to attach to the global object\n",
    "    var Greeter = function(firstName, lastName, language){\n",
    "        //returning a new object by using the function constructor\n",
    "        return new Greeter.init(firstName, lastName, language);\n",
    "        \n",
    "        \n",
    "        \n",
    "    }\n",
    "    \n",
    "    //protype for the object using new keyword\n",
    "    \n",
    "    Greeter.prototype = {};\n",
    "    \n",
    "    \n",
    "    //vdeclaring the variable here wont expose the variables to the end developer \n",
    "   var greet = {\n",
    "        en : 'Hello',\n",
    "        sp : 'Halo'\n",
    "   }\n",
    "    \n",
    "    var validLangs = ['en', 'sp']\n",
    "    \n",
    "    Greeter.init = function(firstName, lastName, language){\n",
    "        var self = this;\n",
    "        \n",
    "        self.firstName = firstName || 'Default Name';\n",
    "        self.lastName = lastName || 'Defaul Last Name';\n",
    "        self.language = language || 'en';\n",
    "        \n",
    "        \n",
    "        \n",
    "        \n",
    "    }\n",
    "    \n",
    "    //prototype property of the function Greeter.init \n",
    "    \n",
    "    Greeter.init.prototype = Greeter.prototype;\n",
    "    \n",
    "    //now expose the Greeter to the global object\n",
    "    \n",
    "    global.Greeter = global.$ = Greeter\n",
    "    \n",
    "    \n",
    "    //now expose the method through the method , and put all the methods to its prototype so that each time the object is created\n",
    "    //it does not create new functions object and only uses the methods of it's prototype\n",
    "    \n",
    "    Greeter.prototype.fullName = function(){\n",
    "        \n",
    "        return this.firstName + this.lastName;\n",
    "        \n",
    "    }\n",
    "    \n",
    "    Greeter.prototype.validateLanguage = function(){\n",
    "        \n",
    "        if(validLangs.indexOf(this.language) === -1){\n",
    "            \n",
    "            throw 'Invalid Language';\n",
    "        } \n",
    "        \n",
    "    }\n",
    "    \n",
    "    Greeter.prototype.greet = function(){\n",
    "        \n",
    "        return greet[this.language] + this.firstName + this.lastName;\n",
    "        \n",
    "    }\n",
    "    \n",
    "    \n",
    "    //making the chainiable methids\n",
    "    Greeter.prototype.setLang = function(language){\n",
    "        \n",
    "        this.language = language;\n",
    "        this.validateLanguage();\n",
    "        \n",
    "        //returning the current object so that we can make a chain\n",
    "        return this;\n",
    "    }\n",
    "    \n",
    "}(this))"
   ]
  },
  {
   "cell_type": "code",
   "execution_count": 21,
   "metadata": {
    "collapsed": false
   },
   "outputs": [
    {
     "data": {
      "text/plain": [
       "'Halorobusgauli'"
      ]
     },
     "execution_count": 21,
     "metadata": {},
     "output_type": "execute_result"
    }
   ],
   "source": [
    "//chaining methods\n",
    "\n",
    "this.$('robus', 'gauli').setLang('sp').greet()"
   ]
  },
  {
   "cell_type": "code",
   "execution_count": null,
   "metadata": {
    "collapsed": true
   },
   "outputs": [],
   "source": []
  }
 ],
 "metadata": {
  "anaconda-cloud": {},
  "kernelspec": {
   "display_name": "Javascript (Node.js)",
   "language": "javascript",
   "name": "javascript"
  },
  "language_info": {
   "file_extension": ".js",
   "mimetype": "application/javascript",
   "name": "javascript",
   "version": "4.4.7"
  }
 },
 "nbformat": 4,
 "nbformat_minor": 1
}
