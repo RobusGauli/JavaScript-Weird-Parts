{
 "cells": [
  {
   "cell_type": "code",
   "execution_count": 66,
   "metadata": {
    "collapsed": false
   },
   "outputs": [
    {
     "data": {
      "text/plain": [
       "undefined"
      ]
     },
     "execution_count": 66,
     "metadata": {},
     "output_type": "execute_result"
    }
   ],
   "source": [
    "//internal implementation of new key word\n",
    "//new creates a following steps\n",
    "\n",
    "// 1. create an empty object \n",
    "//2. call the construcutor function passing and calling the function inside the function binding it to the newly created object\n",
    "//3. this will create all the property inside the newly created object\n",
    "//4. now let the object's __proto__ to point to the function's prototype property\n",
    "//5. return the newly created object that has the required properties binded"
   ]
  },
  {
   "cell_type": "code",
   "execution_count": 102,
   "metadata": {
    "collapsed": false
   },
   "outputs": [
    {
     "data": {
      "text/plain": [
       "undefined"
      ]
     },
     "execution_count": 102,
     "metadata": {},
     "output_type": "execute_result"
    }
   ],
   "source": [
    "function new_(func){\n",
    "    //create a new object\n",
    "    \n",
    "    \n",
    "    \n",
    "    //creating a new empty object\n",
    "    var obj = {};\n",
    "    \n",
    "    //calling the bounded function\n",
    "    \n",
    "    //get the arguments passed to function\n",
    "    var length = arguments.length;\n",
    "    //array of arguments to the function\n",
    "    var args = [];\n",
    "    \n",
    "    //sckipping the first arguments since it is the name\n",
    "    for (var index = 1; index < arguments.length; index += 1){\n",
    "        args.push(arguments[index]);\n",
    "        \n",
    "    }\n",
    "    \n",
    "    //call a function by binding it to the new object and passing it array of arguments using apply methods\n",
    "    func.apply(obj, args);\n",
    "    \n",
    "    \n",
    "    //referencing the objects proto to point tot eh function prototype\n",
    "    \n",
    "    obj.__proto__ = func.prototype;\n",
    "    \n",
    "    //returnt new object\n",
    "    return obj;\n",
    "    \n",
    "    \n",
    "    \n",
    "}"
   ]
  },
  {
   "cell_type": "code",
   "execution_count": 110,
   "metadata": {
    "collapsed": false
   },
   "outputs": [
    {
     "data": {
      "text/plain": [
       "undefined"
      ]
     },
     "execution_count": 110,
     "metadata": {},
     "output_type": "execute_result"
    }
   ],
   "source": [
    "function Ball(pos, size){\n",
    "    \n",
    "    this.pos = pos;\n",
    "    this.size = size;\n",
    "}"
   ]
  },
  {
   "cell_type": "code",
   "execution_count": 111,
   "metadata": {
    "collapsed": false
   },
   "outputs": [
    {
     "data": {
      "text/plain": [
       "undefined"
      ]
     },
     "execution_count": 111,
     "metadata": {},
     "output_type": "execute_result"
    }
   ],
   "source": [
    "var ball = new_(Ball, 45, 45)"
   ]
  },
  {
   "cell_type": "code",
   "execution_count": 112,
   "metadata": {
    "collapsed": false
   },
   "outputs": [
    {
     "data": {
      "text/plain": [
       "Ball { pos: 45, size: 45 }"
      ]
     },
     "execution_count": 112,
     "metadata": {},
     "output_type": "execute_result"
    }
   ],
   "source": [
    "ball"
   ]
  },
  {
   "cell_type": "code",
   "execution_count": 113,
   "metadata": {
    "collapsed": false
   },
   "outputs": [
    {
     "data": {
      "text/plain": [
       "Ball {}"
      ]
     },
     "execution_count": 113,
     "metadata": {},
     "output_type": "execute_result"
    }
   ],
   "source": [
    "ball.__proto__"
   ]
  },
  {
   "cell_type": "code",
   "execution_count": 114,
   "metadata": {
    "collapsed": false
   },
   "outputs": [
    {
     "data": {
      "text/plain": [
       "undefined"
      ]
     },
     "execution_count": 114,
     "metadata": {},
     "output_type": "execute_result"
    }
   ],
   "source": [
    "//in this way new key word is made"
   ]
  }
 ],
 "metadata": {
  "kernelspec": {
   "display_name": "Javascript (Node.js)",
   "language": "javascript",
   "name": "javascript"
  },
  "language_info": {
   "file_extension": ".js",
   "mimetype": "application/javascript",
   "name": "javascript",
   "version": "4.4.7"
  }
 },
 "nbformat": 4,
 "nbformat_minor": 1
}
