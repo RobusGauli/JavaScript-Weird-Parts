{
 "cells": [
  {
   "cell_type": "code",
   "execution_count": 61,
   "metadata": {
    "collapsed": false
   },
   "outputs": [
    {
     "data": {
      "text/plain": [
       "'use strict'"
      ]
     },
     "execution_count": 61,
     "metadata": {},
     "output_type": "execute_result"
    }
   ],
   "source": [
    "\"use strict\""
   ]
  },
  {
   "cell_type": "code",
   "execution_count": 103,
   "metadata": {
    "collapsed": false
   },
   "outputs": [
    {
     "ename": "TypeError",
     "evalue": "Identifier 'Human' has already been declared",
     "output_type": "error",
     "traceback": [
      "TypeError: Identifier 'Human' has already been declared",
      "    at evalmachine.<anonymous>:1:1",
      "    at Object.exports.runInThisContext (vm.js:54:17)",
      "    at run ([eval]:608:19)",
      "    at onRunRequest ([eval]:379:22)",
      "    at onMessage ([eval]:347:17)",
      "    at emitTwo (events.js:87:13)",
      "    at process.emit (events.js:172:7)",
      "    at handleMessage (internal/child_process.js:695:10)",
      "    at Pipe.channel.onread (internal/child_process.js:440:11)"
     ]
    }
   ],
   "source": [
    "'use strict'\n",
    "class Human{\n",
    "    \n",
    "    constructor(height, weight){\n",
    "        this.height = height;\n",
    "        this.weight = weight;\n",
    "    }\n",
    "    \n",
    "    getName(){\n",
    "        return 'this is human class with no name'\n",
    "        \n",
    "    }\n",
    "}"
   ]
  },
  {
   "cell_type": "code",
   "execution_count": 119,
   "metadata": {
    "collapsed": false
   },
   "outputs": [
    {
     "data": {
      "text/plain": [
       "[Function: Ap]"
      ]
     },
     "execution_count": 119,
     "metadata": {},
     "output_type": "execute_result"
    }
   ],
   "source": [
    "'use strict'\n",
    "class Ap extends Human{\n",
    "    \n",
    "    constructor(height, weight, size){\n",
    "        super(height, weight);\n",
    "        this.size = size;\n",
    "    }\n",
    "    \n",
    "    getName(){\n",
    "        return 'this is ape class'\n",
    "    }\n",
    "    \n",
    "    \n",
    "    \n",
    "}"
   ]
  },
  {
   "cell_type": "code",
   "execution_count": 120,
   "metadata": {
    "collapsed": false
   },
   "outputs": [
    {
     "data": {
      "text/plain": [
       "Ap { height: 45, weight: 34, size: 12 }"
      ]
     },
     "execution_count": 120,
     "metadata": {},
     "output_type": "execute_result"
    }
   ],
   "source": [
    "ape = new Ap(45, 34, 12)"
   ]
  },
  {
   "cell_type": "code",
   "execution_count": 122,
   "metadata": {
    "collapsed": false
   },
   "outputs": [
    {
     "data": {
      "text/plain": [
       "Ap {}"
      ]
     },
     "execution_count": 122,
     "metadata": {},
     "output_type": "execute_result"
    }
   ],
   "source": [
    "ape."
   ]
  },
  {
   "cell_type": "code",
   "execution_count": null,
   "metadata": {
    "collapsed": true
   },
   "outputs": [],
   "source": []
  },
  {
   "cell_type": "code",
   "execution_count": 113,
   "metadata": {
    "collapsed": false
   },
   "outputs": [
    {
     "data": {
      "text/plain": [
       "undefined"
      ]
     },
     "execution_count": 113,
     "metadata": {},
     "output_type": "execute_result"
    }
   ],
   "source": [
    "ape.size"
   ]
  },
  {
   "cell_type": "code",
   "execution_count": 78,
   "metadata": {
    "collapsed": false
   },
   "outputs": [
    {
     "data": {
      "text/plain": [
       "Human { height: 45, weight: 23 }"
      ]
     },
     "execution_count": 78,
     "metadata": {},
     "output_type": "execute_result"
    }
   ],
   "source": [
    "h = new Human(45, 23)"
   ]
  },
  {
   "cell_type": "code",
   "execution_count": 79,
   "metadata": {
    "collapsed": false
   },
   "outputs": [
    {
     "data": {
      "text/plain": [
       "Human { height: 45, weight: 23 }"
      ]
     },
     "execution_count": 79,
     "metadata": {},
     "output_type": "execute_result"
    }
   ],
   "source": [
    "h"
   ]
  },
  {
   "cell_type": "code",
   "execution_count": 88,
   "metadata": {
    "collapsed": false
   },
   "outputs": [
    {
     "data": {
      "text/plain": [
       "false"
      ]
     },
     "execution_count": 88,
     "metadata": {},
     "output_type": "execute_result"
    }
   ],
   "source": [
    "//the fucntion defined are not stored inside it's own object\n",
    "h.hasOwnProperty('getName')"
   ]
  },
  {
   "cell_type": "code",
   "execution_count": 90,
   "metadata": {
    "collapsed": false
   },
   "outputs": [
    {
     "data": {
      "text/plain": [
       "Human {}"
      ]
     },
     "execution_count": 90,
     "metadata": {},
     "output_type": "execute_result"
    }
   ],
   "source": [
    "//also not stored in its proto\n",
    "h.__proto__\n"
   ]
  },
  {
   "cell_type": "code",
   "execution_count": 139,
   "metadata": {
    "collapsed": false
   },
   "outputs": [
    {
     "data": {
      "text/plain": [
       "[Function: E]"
      ]
     },
     "execution_count": 139,
     "metadata": {},
     "output_type": "execute_result"
    }
   ],
   "source": [
    "'use strict'\n",
    "class E{\n",
    "    constructor(name, lastname){\n",
    "        this.name = name;\n",
    "        this.lastName = lastname;\n",
    "    }\n",
    "    render(){\n",
    "        return 'fucls'\n",
    "    }\n",
    "}"
   ]
  },
  {
   "cell_type": "code",
   "execution_count": 140,
   "metadata": {
    "collapsed": false
   },
   "outputs": [
    {
     "data": {
      "text/plain": [
       "[Function: D]"
      ]
     },
     "execution_count": 140,
     "metadata": {},
     "output_type": "execute_result"
    }
   ],
   "source": [
    "'use strict'\n",
    "class D extends E{\n",
    "    \n",
    "}"
   ]
  },
  {
   "cell_type": "code",
   "execution_count": 142,
   "metadata": {
    "collapsed": false
   },
   "outputs": [
    {
     "data": {
      "text/plain": [
       "D { name: 'robus', lastName: 'gauli' }"
      ]
     },
     "execution_count": 142,
     "metadata": {},
     "output_type": "execute_result"
    }
   ],
   "source": [
    "d = new D('robus', 'gauli')"
   ]
  },
  {
   "cell_type": "code",
   "execution_count": 135,
   "metadata": {
    "collapsed": false
   },
   "outputs": [
    {
     "data": {
      "text/plain": [
       "'robus'"
      ]
     },
     "execution_count": 135,
     "metadata": {},
     "output_type": "execute_result"
    }
   ],
   "source": [
    "b.name"
   ]
  },
  {
   "cell_type": "code",
   "execution_count": 145,
   "metadata": {
    "collapsed": false
   },
   "outputs": [
    {
     "data": {
      "text/plain": [
       "[Function: Tre]"
      ]
     },
     "execution_count": 145,
     "metadata": {},
     "output_type": "execute_result"
    }
   ],
   "source": [
    "'use strict'\n",
    "class Tre{\n",
    "    constructor(name, age){\n",
    "        this.name = name;\n",
    "        this.age = age;\n",
    "        \n",
    "    }\n",
    "    \n",
    "    \n",
    "    \n",
    "}"
   ]
  },
  {
   "cell_type": "code",
   "execution_count": 152,
   "metadata": {
    "collapsed": false
   },
   "outputs": [
    {
     "data": {
      "text/plain": [
       "[Function: Cre]"
      ]
     },
     "execution_count": 152,
     "metadata": {},
     "output_type": "execute_result"
    }
   ],
   "source": [
    "'use strict'\n",
    "class Cre extends Tre{\n",
    "    \n",
    "    constructor(name, l){\n",
    "        super(name , l)\n",
    "    }\n",
    "}"
   ]
  },
  {
   "cell_type": "code",
   "execution_count": 153,
   "metadata": {
    "collapsed": false
   },
   "outputs": [
    {
     "data": {
      "text/plain": [
       "Cre { name: 'robus', age: 'gauli' }"
      ]
     },
     "execution_count": 153,
     "metadata": {},
     "output_type": "execute_result"
    }
   ],
   "source": [
    "b = new Cre('robus', 'gauli')"
   ]
  },
  {
   "cell_type": "code",
   "execution_count": 154,
   "metadata": {
    "collapsed": false
   },
   "outputs": [
    {
     "data": {
      "text/plain": [
       "Cre { name: 'robus', age: 'gauli' }"
      ]
     },
     "execution_count": 154,
     "metadata": {},
     "output_type": "execute_result"
    }
   ],
   "source": [
    "b"
   ]
  },
  {
   "cell_type": "code",
   "execution_count": 172,
   "metadata": {
    "collapsed": false
   },
   "outputs": [
    {
     "ename": "SyntaxError",
     "evalue": "Unexpected identifier",
     "output_type": "error",
     "traceback": [
      "SyntaxError: Unexpected identifier",
      "    at Object.exports.runInThisContext (vm.js:53:16)",
      "    at run ([eval]:608:19)",
      "    at onRunRequest ([eval]:379:22)",
      "    at onMessage ([eval]:347:17)",
      "    at emitTwo (events.js:87:13)",
      "    at process.emit (events.js:172:7)",
      "    at handleMessage (internal/child_process.js:695:10)",
      "    at Pipe.channel.onread (internal/child_process.js:440:11)"
     ]
    }
   ],
   "source": [
    "\n",
    "//implementation of extends in the clas style\n",
    "\n",
    "'use strict'\n",
    "function exten(obj){\n",
    "    \n",
    "    //return the obj if there is only one obj passed tot it\n",
    "    var length = arguments.length;\n",
    "    if (length < 2){ return obj;}\n",
    "    \n",
    "    \n",
    "    //create a empty array to store the objects\n",
    "    vars objs = [];\n",
    "    for (var index  = 1; index < arguments.length; index += 1){\n",
    "        objs.push(arguments[index]);\n",
    "        \n",
    "    }\n",
    "    \n",
    "    //iterator over each objects and its props and attach it to the parent object\n",
    "    for(var i = 0; i < objs.length; i++){\n",
    "        //get the object\n",
    "        var P = objs[i];\n",
    "        for (var key in P){\n",
    "            \n",
    "            obj.key = P[key];\n",
    "        }\n",
    "        \n",
    "    }\n",
    "        \n",
    "        \n",
    "        \n",
    "        \n",
    "    return obj;\n",
    "    //if there are 2 or more objects passed to it\n",
    "}"
   ]
  },
  {
   "cell_type": "code",
   "execution_count": 179,
   "metadata": {
    "collapsed": false
   },
   "outputs": [
    {
     "data": {
      "text/plain": [
       "undefined"
      ]
     },
     "execution_count": 179,
     "metadata": {},
     "output_type": "execute_result"
    }
   ],
   "source": [
    "\n",
    "//implementation of extends in the clas style\n",
    "\n",
    "\n",
    "function exten(obj){\n",
    "    \n",
    "    //return the obj if there is only one obj passed tot it\n",
    "    var length = arguments.length;\n",
    "    if (length < 2){ return obj;}\n",
    "    \n",
    "    \n",
    "    //create a empty array to store the objects\n",
    "    var objs = [];\n",
    "    for (var index  = 1; index < arguments.length; index += 1){\n",
    "        objs.push(arguments[index]);\n",
    "        \n",
    "    }\n",
    "    \n",
    "    //iterator over each objects and its props and attach it to the parent object\n",
    "    for(var i = 0; i < objs.length; i++){\n",
    "        //get the object\n",
    "        var P = objs[i];\n",
    "        for (var key in P){\n",
    "            \n",
    "            obj[key] = P[key];\n",
    "        }\n",
    "        \n",
    "    }\n",
    "        \n",
    "        \n",
    "        \n",
    "        \n",
    "    return obj;\n",
    "    //if there are 2 or more objects passed to it\n",
    "}"
   ]
  },
  {
   "cell_type": "code",
   "execution_count": null,
   "metadata": {
    "collapsed": true
   },
   "outputs": [],
   "source": []
  },
  {
   "cell_type": "code",
   "execution_count": 182,
   "metadata": {
    "collapsed": false
   },
   "outputs": [
    {
     "data": {
      "text/plain": [
       "{ name: 'robus', getName: [Function], test: 'test' }"
      ]
     },
     "execution_count": 182,
     "metadata": {},
     "output_type": "execute_result"
    }
   ],
   "source": [
    "obj = {name : 'robus', getName : function(){}}\n",
    "n = {test : 'test', getName : function(){console.log('this is me')}}\n",
    "\n",
    "exten(obj, n)"
   ]
  },
  {
   "cell_type": "code",
   "execution_count": 183,
   "metadata": {
    "collapsed": false
   },
   "outputs": [
    {
     "data": {
      "text/plain": [
       "{ name: 'robus', getName: [Function], test: 'test' }"
      ]
     },
     "execution_count": 183,
     "metadata": {},
     "output_type": "execute_result"
    }
   ],
   "source": [
    "obj"
   ]
  },
  {
   "cell_type": "code",
   "execution_count": 184,
   "metadata": {
    "collapsed": false
   },
   "outputs": [
    {
     "name": "stdout",
     "output_type": "stream",
     "text": [
      "this is me\n"
     ]
    },
    {
     "data": {
      "text/plain": [
       "undefined"
      ]
     },
     "execution_count": 184,
     "metadata": {},
     "output_type": "execute_result"
    }
   ],
   "source": [
    "obj.getName()"
   ]
  },
  {
   "cell_type": "code",
   "execution_count": 163,
   "metadata": {
    "collapsed": false
   },
   "outputs": [
    {
     "name": "stdout",
     "output_type": "stream",
     "text": [
      "name\n",
      "robus\n"
     ]
    },
    {
     "data": {
      "text/plain": [
       "undefined"
      ]
     },
     "execution_count": 163,
     "metadata": {},
     "output_type": "execute_result"
    }
   ],
   "source": [
    "for (var key in obj){\n",
    "    console.log(key)\n",
    "    console.log(obj[key])\n",
    "}"
   ]
  }
 ],
 "metadata": {
  "anaconda-cloud": {},
  "kernelspec": {
   "display_name": "Javascript (Node.js)",
   "language": "javascript",
   "name": "javascript"
  },
  "language_info": {
   "file_extension": ".js",
   "mimetype": "application/javascript",
   "name": "javascript",
   "version": "4.4.7"
  }
 },
 "nbformat": 4,
 "nbformat_minor": 1
}
